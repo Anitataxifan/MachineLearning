{
 "cells": [
  {
   "cell_type": "code",
   "execution_count": 3,
   "metadata": {},
   "outputs": [],
   "source": [
    "from sklearn.datasets import fetch_openml \n",
    "mnist = fetch_openml('mnist_784')\n",
    "\n",
    "from sklearn import datasets\n",
    "%matplotlib inline\n",
    "import matplotlib.pyplot as plt\n",
    "mnist = datasets.fetch_openml('mnist_784')\n",
    "data = mnist.data\n",
    "target = mnist.target\n",
    "from sklearn.model_selection import train_test_split\n",
    "xtrain, xtest, ytrain, ytest = train_test_split(data, target,train_size = (49000/70000))\n"
   ]
  },
  {
   "cell_type": "code",
   "execution_count": 4,
   "metadata": {},
   "outputs": [],
   "source": [
    "from sklearn.neural_network import MLPClassifier\n",
    "\n",
    "Modele = MLPClassifier(hidden_layer_sizes=(50))"
   ]
  },
  {
   "cell_type": "code",
   "execution_count": 5,
   "metadata": {},
   "outputs": [
    {
     "data": {
      "text/plain": [
       "0.9483809523809524"
      ]
     },
     "execution_count": 5,
     "metadata": {},
     "output_type": "execute_result"
    }
   ],
   "source": [
    "from sklearn.metrics import accuracy_score\n",
    "\n",
    "Modele.fit(xtrain, ytrain)\n",
    "ypred = Modele.predict(xtest)\n",
    "accuracy_score(ytest, ypred)"
   ]
  },
  {
   "cell_type": "code",
   "execution_count": 6,
   "metadata": {},
   "outputs": [
    {
     "data": {
      "text/plain": [
       "array(['3'], dtype='<U1')"
      ]
     },
     "execution_count": 6,
     "metadata": {},
     "output_type": "execute_result"
    }
   ],
   "source": [
    "Modele.predict([xtest[4]])"
   ]
  },
  {
   "cell_type": "code",
   "execution_count": 7,
   "metadata": {},
   "outputs": [
    {
     "data": {
      "text/plain": [
       "0.9483809523809524"
      ]
     },
     "execution_count": 7,
     "metadata": {},
     "output_type": "execute_result"
    }
   ],
   "source": [
    "from sklearn.metrics import precision_score\n",
    "precision_score(ytest, ypred,average='micro')"
   ]
  },
  {
   "cell_type": "code",
   "execution_count": 8,
   "metadata": {},
   "outputs": [
    {
     "data": {
      "text/plain": [
       "0.9568571428571429"
      ]
     },
     "execution_count": 8,
     "metadata": {},
     "output_type": "execute_result"
    }
   ],
   "source": [
    "from sklearn.neural_network import MLPClassifier\n",
    "\n",
    "Modele2 = MLPClassifier(hidden_layer_sizes=(50,50))\n",
    "Modele2.fit(xtrain, ytrain)\n",
    "ypred2 = Modele2.predict(xtest)\n",
    "accuracy_score(ytest, ypred2)"
   ]
  },
  {
   "cell_type": "code",
   "execution_count": 9,
   "metadata": {
    "scrolled": true
   },
   "outputs": [
    {
     "name": "stdout",
     "output_type": "stream",
     "text": [
      "score1 0.826952380952381\n",
      "duree1 86.52603435516357\n",
      "score2 0.9712380952380952\n",
      "duree2 87.99841833114624\n",
      "score3 0.9697619047619047\n",
      "duree3 83.24441266059875\n",
      "score4 0.9575714285714285\n",
      "duree4 46.45067238807678\n",
      "Fin\n"
     ]
    }
   ],
   "source": [
    "import time\n",
    "    \n",
    "list1 = [50 for x in range (40)]\n",
    "list2 = [50 for x in range (20)]\n",
    "list3 = [50 for x in range (10)]\n",
    "list4 = [50 for x in range (2)]\n",
    "\n",
    "\n",
    "debut = time.time()\n",
    "Mode = MLPClassifier(hidden_layer_sizes=list1)\n",
    "Mode.fit(xtrain, ytrain)\n",
    "ypred3 = Mode.predict(xtest)\n",
    "s = accuracy_score(ytest, ypred3)\n",
    "fin = time.time()\n",
    "duree = fin-debut\n",
    "print(\"score1\", s)\n",
    "print(\"duree1\", duree)\n",
    "\n",
    "\n",
    "debut = time.time()\n",
    "Mode1 = MLPClassifier(hidden_layer_sizes=list2)\n",
    "Mode1.fit(xtrain, ytrain)\n",
    "ypred4 = Mode1.predict(xtest)\n",
    "s2 = accuracy_score(ytest, ypred4)\n",
    "fin = time.time()\n",
    "duree = fin-debut\n",
    "print(\"score2\", s2)\n",
    "print(\"duree2\", duree)\n",
    "    \n",
    "debut = time.time()\n",
    "Mode2 = MLPClassifier(hidden_layer_sizes=list3)\n",
    "Mode2.fit(xtrain, ytrain)\n",
    "ypred5 = Mode2.predict(xtest)\n",
    "s3 = accuracy_score(ytest, ypred5)\n",
    "fin = time.time()\n",
    "duree = fin-debut\n",
    "print(\"score3\", s3)\n",
    "print(\"duree3\", duree)\n",
    "\n",
    "debut = time.time()\n",
    "Mode3 = MLPClassifier(hidden_layer_sizes=(list4))\n",
    "Mode3.fit(xtrain, ytrain)\n",
    "ypred6 = Mode3.predict(xtest)\n",
    "s4 = accuracy_score(ytest, ypred6)\n",
    "fin = time.time()\n",
    "duree = fin-debut\n",
    "print(\"score4\", s4)\n",
    "print(\"duree4\", duree)\n",
    "  \n",
    "  \n",
    "  \n",
    "print(\"Fin\")\n",
    " \n",
    "\n"
   ]
  },
  {
   "cell_type": "code",
   "execution_count": 30,
   "metadata": {},
   "outputs": [
    {
     "name": "stdout",
     "output_type": "stream",
     "text": [
      "score_relu 0.9486190476190476\n",
      "duree_relu 44.126768350601196\n",
      "score_identity 0.9486190476190476\n",
      "duree_identity 8.82265853881836\n",
      "score_logistic 0.9484761904761905\n",
      "duree_logistic 35.10397481918335\n",
      "score_tanh 0.9284285714285714\n",
      "duree_tanh 18.2839674949646\n"
     ]
    }
   ],
   "source": [
    "\n",
    "debut = time.time()\n",
    "Modele3 = MLPClassifier(hidden_layer_sizes=(50), activation=\"relu\")\n",
    "Modele3.fit(xtrain, ytrain)\n",
    "ypred7 = Modele3.predict(xtest)\n",
    "s5 = accuracy_score(ytest, ypred7)\n",
    "fin = time.time()\n",
    "duree = fin-debut\n",
    "print(\"score_relu\",s5)\n",
    "print(\"duree_relu\", duree)\n",
    "  \n",
    "\n",
    "debut = time.time()\n",
    "Modele4 = MLPClassifier(hidden_layer_sizes=(50), activation=\"identity\")\n",
    "Modele4.fit(xtrain, ytrain)\n",
    "ypred8 = Modele3.predict(xtest)\n",
    "s6 = accuracy_score(ytest, ypred8)\n",
    "fin = time.time()\n",
    "duree = fin-debut\n",
    "print(\"score_identity\",s6)\n",
    "print(\"duree_identity\", duree)\n",
    "  \n",
    "debut = time.time()\n",
    "Modele5 = MLPClassifier(hidden_layer_sizes=(50), activation=\"logistic\")\n",
    "Modele5.fit(xtrain, ytrain)\n",
    "ypred9 = Modele5.predict(xtest)\n",
    "s7 = accuracy_score(ytest, ypred9)\n",
    "fin = time.time()\n",
    "duree = fin-debut\n",
    "print(\"score_logistic\",s7)\n",
    "print(\"duree_logistic\", duree)\n",
    "  \n",
    "\n",
    "debut = time.time()\n",
    "Modele6 = MLPClassifier(hidden_layer_sizes=(50), activation=\"tanh\")\n",
    "Modele6.fit(xtrain, ytrain)\n",
    "ypred10 = Modele6.predict(xtest)\n",
    "s8 = accuracy_score(ytest, ypred10)\n",
    "fin = time.time()\n",
    "duree = fin-debut\n",
    "print(\"score_tanh\",s8)\n",
    "print(\"duree_tanh\", duree)\n",
    "  "
   ]
  },
  {
   "cell_type": "code",
   "execution_count": 23,
   "metadata": {},
   "outputs": [
    {
     "name": "stdout",
     "output_type": "stream",
     "text": [
      "score_lbfgs 0.16757142857142857\n",
      "score_adam 0.9516190476190476\n",
      "score_sgd 0.8811904761904762\n"
     ]
    }
   ],
   "source": [
    "Modele7 = MLPClassifier(hidden_layer_sizes=(50),solver='lbfgs')\n",
    "Modele7.fit(xtrain, ytrain)\n",
    "ypred11 = Modele7.predict(xtest)\n",
    "s9 =  accuracy_score(ytest, ypred11)\n",
    "print(\"score_lbfgs\",s9)\n",
    "\n",
    "Modele8 = MLPClassifier(hidden_layer_sizes=(50) ,solver='adam')\n",
    "Modele8.fit(xtrain, ytrain)\n",
    "ypred12 = Modele8.predict(xtest)\n",
    "s10 =  accuracy_score(ytest, ypred12)\n",
    "print(\"score_adam\",s10)\n",
    "\n",
    "Modele9 = MLPClassifier(hidden_layer_sizes=(50), solver='sgd')\n",
    "Modele9.fit(xtrain, ytrain)\n",
    "ypred13 = Modele9.predict(xtest)\n",
    "s11 =  accuracy_score(ytest, ypred13)\n",
    "print(\"score_sgd\",s11)\n"
   ]
  },
  {
   "cell_type": "code",
   "execution_count": 15,
   "metadata": {},
   "outputs": [],
   "source": [
    "import matplotlib.pyplot as plt\n",
    "\n",
    "Modele10 = MLPClassifier(hidden_layer_sizes=(50),alpha=1)\n",
    "Modele10.fit(xtrain, ytrain)\n",
    "pred14 = Modele10.predict(xtest)\n"
   ]
  },
  {
   "cell_type": "code",
   "execution_count": 34,
   "metadata": {},
   "outputs": [],
   "source": [
    "import numpy as np\n",
    "%matplotlib inline\n",
    "import matplotlib.pyplot as plt\n",
    "from matplotlib.colors import ListedColormap"
   ]
  },
  {
   "cell_type": "code",
   "execution_count": 42,
   "metadata": {
    "scrolled": true
   },
   "outputs": [
    {
     "ename": "ValueError",
     "evalue": "cannot reshape array of size 21000 into shape (28000,28000)",
     "output_type": "error",
     "traceback": [
      "\u001b[0;31m---------------------------------------------------------------------------\u001b[0m",
      "\u001b[0;31mValueError\u001b[0m                                Traceback (most recent call last)",
      "\u001b[0;32m<ipython-input-42-afb268b5e4f3>\u001b[0m in \u001b[0;36m<module>\u001b[0;34m\u001b[0m\n\u001b[1;32m      3\u001b[0m \u001b[0mmlppred\u001b[0m \u001b[0;34m=\u001b[0m \u001b[0mmlp\u001b[0m\u001b[0;34m.\u001b[0m\u001b[0mpredict\u001b[0m\u001b[0;34m(\u001b[0m\u001b[0mxtest\u001b[0m\u001b[0;34m)\u001b[0m\u001b[0;34m\u001b[0m\u001b[0;34m\u001b[0m\u001b[0m\n\u001b[1;32m      4\u001b[0m \u001b[0;34m\u001b[0m\u001b[0m\n\u001b[0;32m----> 5\u001b[0;31m \u001b[0mmlppred\u001b[0m\u001b[0;34m.\u001b[0m\u001b[0mreshape\u001b[0m\u001b[0;34m(\u001b[0m\u001b[0;34m(\u001b[0m\u001b[0;34m-\u001b[0m\u001b[0;36m1\u001b[0m\u001b[0;34m,\u001b[0m \u001b[0;36m28000\u001b[0m\u001b[0;34m,\u001b[0m \u001b[0;36m28000\u001b[0m\u001b[0;34m)\u001b[0m\u001b[0;34m)\u001b[0m\u001b[0;34m\u001b[0m\u001b[0;34m\u001b[0m\u001b[0m\n\u001b[0m\u001b[1;32m      6\u001b[0m \u001b[0mplt\u001b[0m\u001b[0;34m.\u001b[0m\u001b[0mfigure\u001b[0m\u001b[0;34m(\u001b[0m\u001b[0;34m)\u001b[0m\u001b[0;34m\u001b[0m\u001b[0;34m\u001b[0m\u001b[0m\n\u001b[1;32m      7\u001b[0m \u001b[0;34m\u001b[0m\u001b[0m\n",
      "\u001b[0;31mValueError\u001b[0m: cannot reshape array of size 21000 into shape (28000,28000)"
     ]
    }
   ],
   "source": [
    "mlp = MLPClassifier(hidden_layer_sizes=(50), activation=\"relu\")\n",
    "mlp.fit(xtrain,ytrain)\n",
    "mlppred = mlp.predict(xtest)\n",
    "\n",
    "mlppred.reshape((-1, 28000, 28000))\n",
    "plt.figure()\n",
    "\n",
    "plt.show()\n"
   ]
  },
  {
   "cell_type": "code",
   "execution_count": null,
   "metadata": {},
   "outputs": [],
   "source": []
  }
 ],
 "metadata": {
  "kernelspec": {
   "display_name": "Python 3",
   "language": "python",
   "name": "python3"
  },
  "language_info": {
   "codemirror_mode": {
    "name": "ipython",
    "version": 3
   },
   "file_extension": ".py",
   "mimetype": "text/x-python",
   "name": "python",
   "nbconvert_exporter": "python",
   "pygments_lexer": "ipython3",
   "version": "3.7.3"
  },
  "latex_envs": {
   "LaTeX_envs_menu_present": true,
   "autoclose": false,
   "autocomplete": true,
   "bibliofile": "biblio.bib",
   "cite_by": "apalike",
   "current_citInitial": 1,
   "eqLabelWithNumbers": true,
   "eqNumInitial": 1,
   "hotkeys": {
    "equation": "Ctrl-E",
    "itemize": "Ctrl-I"
   },
   "labels_anchors": false,
   "latex_user_defs": false,
   "report_style_numbering": false,
   "user_envs_cfg": false
  }
 },
 "nbformat": 4,
 "nbformat_minor": 2
}
