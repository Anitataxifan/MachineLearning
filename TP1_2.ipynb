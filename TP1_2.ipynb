{
 "cells": [
  {
   "cell_type": "code",
   "execution_count": 2,
   "metadata": {},
   "outputs": [],
   "source": [
    "from sklearn.datasets import fetch_openml "
   ]
  },
  {
   "cell_type": "code",
   "execution_count": 3,
   "metadata": {},
   "outputs": [],
   "source": [
    "mnist = fetch_openml('mnist_784')"
   ]
  },
  {
   "cell_type": "code",
   "execution_count": 4,
   "metadata": {},
   "outputs": [],
   "source": [
    "from sklearn import datasets\n",
    "%matplotlib inline\n",
    "import matplotlib.pyplot as plt"
   ]
  },
  {
   "cell_type": "code",
   "execution_count": 5,
   "metadata": {},
   "outputs": [],
   "source": [
    "mnist = datasets.fetch_openml('mnist_784')"
   ]
  },
  {
   "cell_type": "code",
   "execution_count": 6,
   "metadata": {},
   "outputs": [],
   "source": [
    "import numpy as np"
   ]
  },
  {
   "cell_type": "code",
   "execution_count": 7,
   "metadata": {},
   "outputs": [],
   "source": [
    "data = np.zeros(5000)"
   ]
  },
  {
   "cell_type": "code",
   "execution_count": 8,
   "metadata": {},
   "outputs": [],
   "source": [
    "sample = np.random.randint(70000,size = 5000)"
   ]
  },
  {
   "cell_type": "code",
   "execution_count": 9,
   "metadata": {},
   "outputs": [],
   "source": [
    "data = mnist.data[sample]"
   ]
  },
  {
   "cell_type": "code",
   "execution_count": 10,
   "metadata": {},
   "outputs": [],
   "source": [
    "target = mnist.target[sample]"
   ]
  },
  {
   "cell_type": "code",
   "execution_count": 11,
   "metadata": {},
   "outputs": [],
   "source": [
    "from sklearn.model_selection import train_test_split"
   ]
  },
  {
   "cell_type": "code",
   "execution_count": 12,
   "metadata": {},
   "outputs": [],
   "source": [
    "xtrain, xtest, ytrain, ytest = train_test_split(data, target,train_size = 0.8)"
   ]
  },
  {
   "cell_type": "code",
   "execution_count": 13,
   "metadata": {},
   "outputs": [],
   "source": [
    "from sklearn.neighbors import KNeighborsClassifier\n",
    "\n",
    "import time"
   ]
  },
  {
   "cell_type": "code",
   "execution_count": 14,
   "metadata": {},
   "outputs": [
    {
     "name": "stdout",
     "output_type": "stream",
     "text": [
      "9.900775909423828\n",
      "0.907\n"
     ]
    }
   ],
   "source": [
    "debut = time.time()\n",
    "pointpro = KNeighborsClassifier (10)\n",
    "pointpro.fit(xtrain,ytrain)\n",
    "t=pointpro.score(xtest, ytest)\n",
    "ypred = pointpro.predict(xtest)\n",
    "fin = time.time()\n",
    "temps = fin -debut\n",
    "print(temps)\n",
    "print(t)\n"
   ]
  },
  {
   "cell_type": "code",
   "execution_count": 15,
   "metadata": {},
   "outputs": [
    {
     "data": {
      "text/plain": [
       "array([[0. , 0. , 0. , ..., 0. , 0.1, 0.2],\n",
       "       [0. , 0. , 0. , ..., 0. , 1. , 0. ],\n",
       "       [0. , 0. , 1. , ..., 0. , 0. , 0. ],\n",
       "       ...,\n",
       "       [0. , 0. , 0. , ..., 0. , 0. , 0. ],\n",
       "       [0. , 1. , 0. , ..., 0. , 0. , 0. ],\n",
       "       [0. , 1. , 0. , ..., 0. , 0. , 0. ]])"
      ]
     },
     "execution_count": 15,
     "metadata": {},
     "output_type": "execute_result"
    }
   ],
   "source": [
    "pointpro.predict_proba(xtest)"
   ]
  },
  {
   "cell_type": "code",
   "execution_count": 16,
   "metadata": {},
   "outputs": [
    {
     "data": {
      "text/plain": [
       "array(['5', '8', '2', '8', '4', '8', '7', '3', '9', '0', '6', '3', '8',\n",
       "       '1', '0', '4', '6', '5', '5', '5', '8', '8', '2', '6', '1', '2',\n",
       "       '2', '4', '6', '1', '7', '8', '6', '1', '6', '1', '1', '2', '3',\n",
       "       '8', '6', '9', '3', '8', '7', '3', '2', '3', '7', '1', '8', '7',\n",
       "       '1', '6', '9', '7', '9', '3', '6', '3', '7', '3', '3', '4', '0',\n",
       "       '7', '8', '7', '4', '8', '0', '7', '7', '3', '2', '7', '7', '6',\n",
       "       '0', '8', '9', '6', '9', '2', '0', '5', '9', '8', '6', '6', '5',\n",
       "       '4', '6', '4', '4', '4', '4', '7', '0', '8', '8', '8', '3', '9',\n",
       "       '4', '0', '8', '0', '5', '1', '0', '3', '0', '0', '8', '8', '4',\n",
       "       '1', '4', '0', '6', '3', '4', '2', '9', '1', '4', '7', '3', '9',\n",
       "       '4', '3', '4', '6', '0', '1', '0', '6', '1', '7', '9', '4', '7',\n",
       "       '5', '7', '5', '2', '4', '8', '6', '8', '9', '8', '6', '0', '9',\n",
       "       '4', '3', '6', '9', '3', '4', '1', '1', '0', '0', '3', '9', '1',\n",
       "       '0', '7', '7', '6', '5', '3', '1', '2', '7', '8', '1', '5', '6',\n",
       "       '8', '2', '0', '6', '1', '2', '4', '3', '8', '5', '8', '6', '0',\n",
       "       '0', '4', '3', '0', '5', '8', '8', '4', '0', '1', '4', '9', '1',\n",
       "       '4', '1', '3', '8', '6', '0', '3', '9', '3', '1', '7', '8', '1',\n",
       "       '3', '1', '8', '9', '9', '5', '7', '5', '9', '0', '7', '8', '4',\n",
       "       '6', '2', '8', '8', '1', '8', '1', '8', '4', '8', '7', '9', '6',\n",
       "       '5', '2', '2', '9', '5', '0', '1', '0', '2', '0', '6', '7', '1',\n",
       "       '5', '7', '6', '5', '5', '3', '8', '3', '4', '3', '0', '8', '0',\n",
       "       '3', '6', '1', '3', '1', '2', '0', '2', '5', '5', '1', '4', '3',\n",
       "       '1', '8', '2', '6', '4', '3', '3', '4', '0', '9', '9', '8', '3',\n",
       "       '0', '0', '6', '1', '9', '7', '4', '3', '6', '1', '6', '6', '2',\n",
       "       '0', '3', '4', '8', '4', '9', '3', '4', '7', '7', '5', '3', '5',\n",
       "       '6', '1', '2', '4', '8', '5', '3', '6', '2', '7', '9', '4', '4',\n",
       "       '1', '2', '9', '1', '6', '1', '2', '6', '8', '0', '9', '3', '7',\n",
       "       '0', '3', '9', '9', '3', '9', '0', '0', '6', '4', '5', '2', '3',\n",
       "       '0', '4', '4', '1', '2', '5', '3', '8', '1', '0', '2', '1', '1',\n",
       "       '8', '7', '4', '6', '6', '6', '0', '9', '5', '7', '9', '8', '2',\n",
       "       '4', '9', '4', '7', '7', '6', '5', '4', '4', '7', '7', '4', '2',\n",
       "       '4', '5', '4', '1', '6', '6', '7', '3', '5', '0', '2', '0', '5',\n",
       "       '1', '9', '6', '4', '0', '0', '8', '0', '3', '0', '9', '9', '2',\n",
       "       '1', '5', '0', '1', '0', '4', '7', '4', '0', '2', '5', '2', '2',\n",
       "       '4', '2', '6', '6', '6', '9', '7', '0', '0', '8', '0', '4', '8',\n",
       "       '1', '9', '0', '5', '3', '0', '9', '2', '7', '7', '2', '3', '4',\n",
       "       '1', '0', '5', '3', '1', '8', '9', '7', '9', '9', '4', '3', '1',\n",
       "       '0', '4', '3', '2', '6', '5', '5', '7', '7', '5', '1', '6', '4',\n",
       "       '5', '7', '6', '0', '9', '9', '5', '8', '0', '8', '2', '1', '1',\n",
       "       '7', '1', '7', '5', '3', '2', '8', '7', '9', '9', '1', '9', '6',\n",
       "       '2', '3', '4', '9', '3', '6', '3', '1', '7', '4', '0', '1', '1',\n",
       "       '6', '1', '5', '6', '8', '0', '8', '6', '4', '0', '1', '4', '8',\n",
       "       '5', '0', '5', '1', '4', '7', '0', '6', '7', '4', '8', '2', '1',\n",
       "       '0', '2', '3', '3', '0', '1', '1', '9', '8', '9', '4', '6', '7',\n",
       "       '2', '5', '0', '4', '9', '2', '0', '2', '0', '9', '6', '2', '9',\n",
       "       '5', '6', '6', '8', '2', '8', '4', '3', '5', '9', '7', '3', '6',\n",
       "       '0', '2', '6', '4', '8', '3', '0', '7', '4', '1', '4', '8', '8',\n",
       "       '8', '8', '3', '6', '7', '7', '7', '4', '3', '2', '1', '7', '9',\n",
       "       '1', '7', '0', '2', '2', '9', '1', '7', '4', '9', '6', '7', '7',\n",
       "       '3', '9', '9', '5', '7', '4', '5', '1', '9', '6', '3', '4', '5',\n",
       "       '5', '9', '3', '1', '9', '7', '7', '1', '2', '6', '2', '1', '1',\n",
       "       '9', '7', '9', '5', '3', '5', '5', '0', '3', '6', '9', '1', '4',\n",
       "       '9', '4', '9', '1', '1', '9', '4', '1', '5', '9', '6', '8', '7',\n",
       "       '3', '5', '6', '2', '8', '7', '7', '5', '2', '6', '3', '3', '2',\n",
       "       '1', '0', '6', '9', '9', '9', '7', '6', '4', '0', '8', '1', '0',\n",
       "       '5', '7', '8', '3', '1', '5', '8', '4', '1', '0', '4', '8', '8',\n",
       "       '6', '5', '2', '9', '7', '5', '3', '5', '3', '2', '4', '7', '6',\n",
       "       '4', '1', '1', '6', '7', '0', '6', '7', '5', '5', '7', '9', '7',\n",
       "       '0', '3', '4', '5', '7', '3', '6', '3', '2', '4', '8', '5', '8',\n",
       "       '7', '8', '7', '7', '3', '5', '6', '9', '2', '0', '1', '7', '2',\n",
       "       '3', '4', '2', '9', '2', '4', '6', '5', '7', '7', '2', '0', '1',\n",
       "       '6', '0', '9', '0', '8', '3', '3', '0', '0', '1', '3', '3', '7',\n",
       "       '8', '0', '1', '3', '2', '3', '6', '5', '6', '0', '3', '8', '2',\n",
       "       '1', '7', '5', '0', '1', '9', '2', '6', '9', '7', '5', '3', '3',\n",
       "       '6', '5', '6', '9', '4', '7', '3', '3', '6', '4', '3', '5', '3',\n",
       "       '1', '4', '4', '3', '7', '0', '3', '8', '0', '7', '5', '9', '4',\n",
       "       '8', '3', '4', '6', '4', '2', '1', '0', '9', '7', '9', '6', '5',\n",
       "       '0', '1', '5', '8', '8', '4', '1', '8', '7', '7', '4', '4', '8',\n",
       "       '9', '4', '8', '8', '9', '2', '5', '9', '7', '3', '8', '8', '8',\n",
       "       '4', '0', '8', '5', '4', '4', '9', '6', '4', '7', '3', '7', '7',\n",
       "       '0', '7', '3', '2', '0', '4', '6', '3', '5', '6', '9', '9', '2',\n",
       "       '4', '1', '1', '3', '5', '0', '9', '7', '6', '1', '1', '1', '4',\n",
       "       '4', '3', '8', '1', '8', '3', '7', '6', '3', '8', '5', '8', '1',\n",
       "       '7', '4', '0', '9', '3', '7', '0', '4', '3', '2', '2', '7', '2',\n",
       "       '0', '2', '8', '5', '4', '5', '3', '7', '7', '7', '9', '2', '3',\n",
       "       '5', '3', '8', '9', '3', '7', '8', '1', '9', '7', '7', '7', '7',\n",
       "       '8', '8', '5', '1', '8', '3', '9', '6', '1', '6', '1', '1'],\n",
       "      dtype=object)"
      ]
     },
     "execution_count": 16,
     "metadata": {},
     "output_type": "execute_result"
    }
   ],
   "source": [
    "ytest"
   ]
  },
  {
   "cell_type": "code",
   "execution_count": 17,
   "metadata": {},
   "outputs": [
    {
     "data": {
      "text/plain": [
       "array(['4'], dtype=object)"
      ]
     },
     "execution_count": 17,
     "metadata": {},
     "output_type": "execute_result"
    }
   ],
   "source": [
    "pointpro.predict([xtest[4]])"
   ]
  },
  {
   "cell_type": "code",
   "execution_count": 18,
   "metadata": {},
   "outputs": [
    {
     "data": {
      "text/plain": [
       "'4'"
      ]
     },
     "execution_count": 18,
     "metadata": {},
     "output_type": "execute_result"
    }
   ],
   "source": [
    "ytest[4]"
   ]
  },
  {
   "cell_type": "code",
   "execution_count": 19,
   "metadata": {},
   "outputs": [
    {
     "data": {
      "text/plain": [
       "array(['7'], dtype=object)"
      ]
     },
     "execution_count": 19,
     "metadata": {},
     "output_type": "execute_result"
    }
   ],
   "source": [
    "pointpro.predict([xtest[48]])"
   ]
  },
  {
   "cell_type": "code",
   "execution_count": 20,
   "metadata": {},
   "outputs": [
    {
     "data": {
      "text/plain": [
       "'7'"
      ]
     },
     "execution_count": 20,
     "metadata": {},
     "output_type": "execute_result"
    }
   ],
   "source": [
    "ytest[48]"
   ]
  },
  {
   "cell_type": "code",
   "execution_count": 21,
   "metadata": {},
   "outputs": [
    {
     "data": {
      "text/plain": [
       "array([[0., 0., 0., 0., 1., 0., 0., 0., 0., 0.]])"
      ]
     },
     "execution_count": 21,
     "metadata": {},
     "output_type": "execute_result"
    }
   ],
   "source": [
    "pointpro.predict_proba([xtest[4]])"
   ]
  },
  {
   "cell_type": "code",
   "execution_count": 22,
   "metadata": {},
   "outputs": [
    {
     "name": "stdout",
     "output_type": "stream",
     "text": [
      "score 0.908\n",
      "score 0.922\n",
      "score 0.924\n",
      "score 0.92\n",
      "score 0.917\n",
      "score 0.909\n",
      "score 0.908\n",
      "score 0.901\n",
      "score 0.907\n",
      "score 0.905\n",
      "score 0.907\n",
      "score 0.899\n",
      "score 0.901\n",
      "Fin\n"
     ]
    }
   ],
   "source": [
    "k = 2\n",
    "while k < 15:\n",
    "    pointpro = KNeighborsClassifier (k)\n",
    "    pointpro.fit(xtrain,ytrain)\n",
    "    r = pointpro.score(xtest, ytest)\n",
    "    print(\"score\", r)\n",
    "    k = k + 1\n",
    "print(\"Fin\")"
   ]
  },
  {
   "cell_type": "code",
   "execution_count": 24,
   "metadata": {},
   "outputs": [
    {
     "name": "stdout",
     "output_type": "stream",
     "text": [
      "score 0.87275\n",
      "score 0.8874285714285715\n",
      "score 0.9003333333333333\n",
      "score 0.9076\n",
      "score 0.9085\n",
      "score 0.9233333333333333\n",
      "score 0.948\n",
      "Fin\n"
     ]
    }
   ],
   "source": [
    "pourcent_range = range(2,9,1)\n",
    "for k in pourcent_range:\n",
    "    xtrain,xtest,ytrain, ytest = train_test_split(data,target,train_size=(0.1*k))\n",
    "    pointpro = KNeighborsClassifier (5)\n",
    "    pointpro.fit(xtrain,ytrain)\n",
    "    r = pointpro.score(xtest, ytest)\n",
    "    print(\"score\", r)\n",
    "print(\"Fin\")"
   ]
  },
  {
   "cell_type": "code",
   "execution_count": 26,
   "metadata": {},
   "outputs": [
    {
     "name": "stdout",
     "output_type": "stream",
     "text": [
      "score 0.8466666666666667\n",
      "score 0.8566666666666667\n",
      "score 0.8733333333333333\n",
      "score 0.89\n",
      "score 0.8906666666666667\n",
      "score 0.9066666666666666\n",
      "score 0.9142857142857143\n",
      "score 0.9183333333333333\n",
      "score 0.9177777777777778\n",
      "Fin\n"
     ]
    }
   ],
   "source": [
    "size_range = range(500,5000,500)\n",
    "for k in size_range:\n",
    "        sample = np.random.randint(70000, size=k)\n",
    "        data = mnist.data[sample]\n",
    "        target = mnist.target[sample]\n",
    "        xtrain, xtest, ytrain, ytest = train_test_split(data, target,train_size = 0.7)\n",
    "        pointpro = KNeighborsClassifier (5)\n",
    "        pointpro.fit(xtrain,ytrain)\n",
    "        r = pointpro.score(xtest, ytest)\n",
    "        print(\"score\", r)\n",
    "print(\"Fin\")"
   ]
  },
  {
   "cell_type": "code",
   "execution_count": null,
   "metadata": {},
   "outputs": [],
   "source": []
  }
 ],
 "metadata": {
  "kernelspec": {
   "display_name": "Python 3",
   "language": "python",
   "name": "python3"
  },
  "language_info": {
   "codemirror_mode": {
    "name": "ipython",
    "version": 3
   },
   "file_extension": ".py",
   "mimetype": "text/x-python",
   "name": "python",
   "nbconvert_exporter": "python",
   "pygments_lexer": "ipython3",
   "version": "3.7.3"
  },
  "latex_envs": {
   "LaTeX_envs_menu_present": true,
   "autoclose": false,
   "autocomplete": true,
   "bibliofile": "biblio.bib",
   "cite_by": "apalike",
   "current_citInitial": 1,
   "eqLabelWithNumbers": true,
   "eqNumInitial": 1,
   "hotkeys": {
    "equation": "Ctrl-E",
    "itemize": "Ctrl-I"
   },
   "labels_anchors": false,
   "latex_user_defs": false,
   "report_style_numbering": false,
   "user_envs_cfg": false
  }
 },
 "nbformat": 4,
 "nbformat_minor": 2
}
